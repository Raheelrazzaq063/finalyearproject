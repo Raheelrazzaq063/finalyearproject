{
  "cells": [
    {
      "cell_type": "markdown",
      "metadata": {
        "id": "view-in-github",
        "colab_type": "text"
      },
      "source": [
        "<a href=\"https://colab.research.google.com/github/Raheelrazzaq063/finalyearproject/blob/main/code.ipynb\" target=\"_parent\"><img src=\"https://colab.research.google.com/assets/colab-badge.svg\" alt=\"Open In Colab\"/></a>"
      ]
    },
    {
      "cell_type": "code",
      "source": [
        "from google.colab import drive\n",
        "drive.mount('/content/drive')"
      ],
      "metadata": {
        "id": "a6KHbkpiAunu",
        "colab": {
          "base_uri": "https://localhost:8080/"
        },
        "outputId": "be86f44d-af52-42e9-8941-9cb1a569e140"
      },
      "execution_count": 7,
      "outputs": [
        {
          "output_type": "stream",
          "name": "stdout",
          "text": [
            "Mounted at /content/drive\n"
          ]
        }
      ]
    },
    {
      "cell_type": "code",
      "source": [
        "import pandas as pd\n",
        "import numpy as np\n",
        "from sklearn.model_selection import train_test_split, GridSearchCV\n",
        "from sklearn.preprocessing import LabelEncoder, StandardScaler\n",
        "from sklearn.metrics import accuracy_score, classification_report\n",
        "from sklearn.ensemble import RandomForestClassifier\n",
        "from sklearn.svm import SVC\n",
        "from imblearn.over_sampling import SMOTE\n",
        "from imblearn.under_sampling import RandomUnderSampler\n",
        "from imblearn.pipeline import Pipeline\n",
        "\n",
        "# Load dataset\n",
        "file_path = \"/content/drive/MyDrive/my data scineproject/breast-cancer.csv\"\n",
        "df = pd.read_csv(file_path)\n",
        "\n",
        "# Encode categorical columns using Label Encoding\n",
        "label_encoders = {}\n",
        "for col in df.columns:\n",
        "    if df[col].dtype == 'object':\n",
        "        le = LabelEncoder()\n",
        "        df[col] = le.fit_transform(df[col])\n",
        "        label_encoders[col] = le\n",
        "\n",
        "# Splitting dataset into features (X) and target (y)\n",
        "X = df.drop(columns=['class'])  # Features\n",
        "y = df['class']  # Target\n",
        "\n",
        "# Feature Scaling\n",
        "scaler = StandardScaler()\n",
        "X = scaler.fit_transform(X)\n",
        "\n",
        "# Splitting into training and test sets (80-20 split)\n",
        "X_train, X_test, y_train, y_test = train_test_split(X, y, test_size=0.2, random_state=42, stratify=y)\n",
        "\n",
        "# Apply Data Augmentation (SMOTE + Undersampling)\n",
        "smote = SMOTE(random_state=42)\n",
        "under_sampler = RandomUnderSampler(random_state=42)\n",
        "pipeline = Pipeline([('smote', smote), ('under', under_sampler)])\n",
        "X_train, y_train = pipeline.fit_resample(X_train, y_train)\n",
        "\n",
        "# Initialize models with Expanded Hyperparameter Tuning\n",
        "param_grid_rf = {\n",
        "    'n_estimators': [100, 200, 300, 500],\n",
        "    'max_depth': [None, 10, 20, 30],\n",
        "    'min_samples_split': [2, 5, 10]\n",
        "}\n",
        "param_grid_svm = {\n",
        "    'C': [0.1, 1, 10, 50],\n",
        "    'kernel': ['rbf', 'linear', 'poly'],\n",
        "    'gamma': ['scale', 'auto']\n",
        "}\n",
        "\n",
        "rf_grid = GridSearchCV(RandomForestClassifier(random_state=42), param_grid_rf, cv=5, n_jobs=-1)\n",
        "svm_grid = GridSearchCV(SVC(probability=True), param_grid_svm, cv=5, n_jobs=-1)\n",
        "\n",
        "# Train models\n",
        "rf_grid.fit(X_train, y_train)\n",
        "svm_grid.fit(X_train, y_train)\n",
        "\n",
        "# Best models\n",
        "rf_best = rf_grid.best_estimator_\n",
        "svm_best = svm_grid.best_estimator_\n",
        "\n",
        "# Evaluate models\n",
        "models = {\"Random Forest\": rf_best, \"SVM\": svm_best}\n",
        "results = {}\n",
        "for name, model in models.items():\n",
        "    y_pred = model.predict(X_test)\n",
        "    accuracy = accuracy_score(y_test, y_pred)\n",
        "    results[name] = accuracy\n",
        "    print(f\"{name} Accuracy: {accuracy:.4f}\")\n",
        "    print(classification_report(y_test, y_pred))\n",
        "\n",
        "# Display best model\n",
        "best_model_name = max(results, key=results.get)\n",
        "print(f\"Best Model: {best_model_name} with Accuracy: {results[best_model_name]:.4f}\")\n"
      ],
      "metadata": {
        "colab": {
          "base_uri": "https://localhost:8080/"
        },
        "id": "2qTSL3mNv4xi",
        "outputId": "f4ee713c-3901-4188-c16d-f1322e162e2d"
      },
      "execution_count": 8,
      "outputs": [
        {
          "output_type": "stream",
          "name": "stdout",
          "text": [
            "Random Forest Accuracy: 0.6897\n",
            "              precision    recall  f1-score   support\n",
            "\n",
            "           0       0.77      0.80      0.79        41\n",
            "           1       0.47      0.41      0.44        17\n",
            "\n",
            "    accuracy                           0.69        58\n",
            "   macro avg       0.62      0.61      0.61        58\n",
            "weighted avg       0.68      0.69      0.68        58\n",
            "\n",
            "SVM Accuracy: 0.6724\n",
            "              precision    recall  f1-score   support\n",
            "\n",
            "           0       0.75      0.80      0.78        41\n",
            "           1       0.43      0.35      0.39        17\n",
            "\n",
            "    accuracy                           0.67        58\n",
            "   macro avg       0.59      0.58      0.58        58\n",
            "weighted avg       0.66      0.67      0.66        58\n",
            "\n",
            "Best Model: Random Forest with Accuracy: 0.6897\n"
          ]
        }
      ]
    },
    {
      "cell_type": "code",
      "source": [
        "import pandas as pd\n",
        "import numpy as np\n",
        "import tensorflow as tf\n",
        "from tensorflow import keras\n",
        "from tensorflow.keras import layers\n",
        "from sklearn.model_selection import train_test_split\n",
        "from sklearn.preprocessing import LabelEncoder, StandardScaler\n",
        "from sklearn.metrics import accuracy_score, classification_report\n",
        "from imblearn.over_sampling import SMOTE\n",
        "from imblearn.under_sampling import RandomUnderSampler\n",
        "from imblearn.pipeline import Pipeline\n",
        "\n",
        "# Load dataset\n",
        "file_path = \"/content/drive/MyDrive/my data scineproject/breast-cancer.csv\"\n",
        "df = pd.read_csv(file_path)\n",
        "\n",
        "# Encode categorical columns using Label Encoding\n",
        "label_encoders = {}\n",
        "for col in df.columns:\n",
        "    if df[col].dtype == 'object':\n",
        "        le = LabelEncoder()\n",
        "        df[col] = le.fit_transform(df[col])\n",
        "        label_encoders[col] = le\n",
        "\n",
        "# Splitting dataset into features (X) and target (y)\n",
        "X = df.drop(columns=['class']).values  # Convert to numpy array\n",
        "y = df['class'].values\n",
        "\n",
        "# Feature Scaling\n",
        "scaler = StandardScaler()\n",
        "X = scaler.fit_transform(X)\n",
        "\n",
        "# Splitting into training and test sets (80-20 split)\n",
        "X_train, X_test, y_train, y_test = train_test_split(X, y, test_size=0.2, random_state=42, stratify=y)\n",
        "\n",
        "# Apply Data Augmentation (SMOTE + Undersampling)\n",
        "smote = SMOTE(random_state=42)\n",
        "under_sampler = RandomUnderSampler(random_state=42)\n",
        "pipeline = Pipeline([('smote', smote), ('under', under_sampler)])\n",
        "X_train, y_train = pipeline.fit_resample(X_train, y_train)\n",
        "\n",
        "# Reshape data for CNN (assuming features are treated as a 1D spatial structure)\n",
        "X_train = X_train.reshape(X_train.shape[0], X_train.shape[1], 1, 1)\n",
        "X_test = X_test.reshape(X_test.shape[0], X_test.shape[1], 1, 1)\n",
        "\n",
        "# CNN Model\n",
        "model = keras.Sequential([\n",
        "    layers.Conv2D(32, (3, 1), activation='relu', input_shape=(X_train.shape[1], 1, 1)),\n",
        "    layers.Conv2D(64, (3, 1), activation='relu'),\n",
        "    layers.Flatten(),\n",
        "    layers.Dense(128, activation='relu'),\n",
        "    layers.Dropout(0.5),\n",
        "    layers.Dense(1, activation='sigmoid')  # Binary classification\n",
        "])\n",
        "\n",
        "# Compile model\n",
        "model.compile(optimizer='adam', loss='binary_crossentropy', metrics=['accuracy'])\n",
        "\n",
        "# Train model\n",
        "history = model.fit(X_train, y_train, epochs=20, batch_size=32, validation_data=(X_test, y_test))\n",
        "\n",
        "# Evaluate model\n",
        "y_pred = (model.predict(X_test) > 0.5).astype(\"int32\")\n",
        "accuracy = accuracy_score(y_test, y_pred)\n",
        "print(f\"CNN Model Accuracy: {accuracy:.4f}\")\n",
        "print(classification_report(y_test, y_pred))\n"
      ],
      "metadata": {
        "colab": {
          "base_uri": "https://localhost:8080/"
        },
        "id": "on3Ux0zEQbFo",
        "outputId": "46279832-d386-4c59-fbdf-02db126c8a6c"
      },
      "execution_count": 9,
      "outputs": [
        {
          "output_type": "stream",
          "name": "stderr",
          "text": [
            "/usr/local/lib/python3.11/dist-packages/keras/src/layers/convolutional/base_conv.py:107: UserWarning: Do not pass an `input_shape`/`input_dim` argument to a layer. When using Sequential models, prefer using an `Input(shape)` object as the first layer in the model instead.\n",
            "  super().__init__(activity_regularizer=activity_regularizer, **kwargs)\n"
          ]
        },
        {
          "output_type": "stream",
          "name": "stdout",
          "text": [
            "Epoch 1/20\n",
            "\u001b[1m10/10\u001b[0m \u001b[32m━━━━━━━━━━━━━━━━━━━━\u001b[0m\u001b[37m\u001b[0m \u001b[1m2s\u001b[0m 42ms/step - accuracy: 0.5854 - loss: 0.6766 - val_accuracy: 0.6034 - val_loss: 0.6609\n",
            "Epoch 2/20\n",
            "\u001b[1m10/10\u001b[0m \u001b[32m━━━━━━━━━━━━━━━━━━━━\u001b[0m\u001b[37m\u001b[0m \u001b[1m0s\u001b[0m 12ms/step - accuracy: 0.6921 - loss: 0.6194 - val_accuracy: 0.6379 - val_loss: 0.6027\n",
            "Epoch 3/20\n",
            "\u001b[1m10/10\u001b[0m \u001b[32m━━━━━━━━━━━━━━━━━━━━\u001b[0m\u001b[37m\u001b[0m \u001b[1m0s\u001b[0m 11ms/step - accuracy: 0.7028 - loss: 0.6001 - val_accuracy: 0.7069 - val_loss: 0.5893\n",
            "Epoch 4/20\n",
            "\u001b[1m10/10\u001b[0m \u001b[32m━━━━━━━━━━━━━━━━━━━━\u001b[0m\u001b[37m\u001b[0m \u001b[1m0s\u001b[0m 11ms/step - accuracy: 0.6174 - loss: 0.6156 - val_accuracy: 0.6379 - val_loss: 0.6252\n",
            "Epoch 5/20\n",
            "\u001b[1m10/10\u001b[0m \u001b[32m━━━━━━━━━━━━━━━━━━━━\u001b[0m\u001b[37m\u001b[0m \u001b[1m0s\u001b[0m 16ms/step - accuracy: 0.6580 - loss: 0.5759 - val_accuracy: 0.7069 - val_loss: 0.5886\n",
            "Epoch 6/20\n",
            "\u001b[1m10/10\u001b[0m \u001b[32m━━━━━━━━━━━━━━━━━━━━\u001b[0m\u001b[37m\u001b[0m \u001b[1m0s\u001b[0m 11ms/step - accuracy: 0.7308 - loss: 0.5036 - val_accuracy: 0.6552 - val_loss: 0.6108\n",
            "Epoch 7/20\n",
            "\u001b[1m10/10\u001b[0m \u001b[32m━━━━━━━━━━━━━━━━━━━━\u001b[0m\u001b[37m\u001b[0m \u001b[1m0s\u001b[0m 12ms/step - accuracy: 0.7056 - loss: 0.5458 - val_accuracy: 0.6379 - val_loss: 0.5887\n",
            "Epoch 8/20\n",
            "\u001b[1m10/10\u001b[0m \u001b[32m━━━━━━━━━━━━━━━━━━━━\u001b[0m\u001b[37m\u001b[0m \u001b[1m0s\u001b[0m 11ms/step - accuracy: 0.7388 - loss: 0.4824 - val_accuracy: 0.6724 - val_loss: 0.6006\n",
            "Epoch 9/20\n",
            "\u001b[1m10/10\u001b[0m \u001b[32m━━━━━━━━━━━━━━━━━━━━\u001b[0m\u001b[37m\u001b[0m \u001b[1m0s\u001b[0m 12ms/step - accuracy: 0.7637 - loss: 0.4934 - val_accuracy: 0.6552 - val_loss: 0.6095\n",
            "Epoch 10/20\n",
            "\u001b[1m10/10\u001b[0m \u001b[32m━━━━━━━━━━━━━━━━━━━━\u001b[0m\u001b[37m\u001b[0m \u001b[1m0s\u001b[0m 11ms/step - accuracy: 0.7747 - loss: 0.4737 - val_accuracy: 0.6724 - val_loss: 0.6028\n",
            "Epoch 11/20\n",
            "\u001b[1m10/10\u001b[0m \u001b[32m━━━━━━━━━━━━━━━━━━━━\u001b[0m\u001b[37m\u001b[0m \u001b[1m0s\u001b[0m 11ms/step - accuracy: 0.7789 - loss: 0.4836 - val_accuracy: 0.6724 - val_loss: 0.6041\n",
            "Epoch 12/20\n",
            "\u001b[1m10/10\u001b[0m \u001b[32m━━━━━━━━━━━━━━━━━━━━\u001b[0m\u001b[37m\u001b[0m \u001b[1m0s\u001b[0m 11ms/step - accuracy: 0.8286 - loss: 0.4579 - val_accuracy: 0.6724 - val_loss: 0.6089\n",
            "Epoch 13/20\n",
            "\u001b[1m10/10\u001b[0m \u001b[32m━━━━━━━━━━━━━━━━━━━━\u001b[0m\u001b[37m\u001b[0m \u001b[1m0s\u001b[0m 11ms/step - accuracy: 0.8062 - loss: 0.4409 - val_accuracy: 0.6724 - val_loss: 0.6042\n",
            "Epoch 14/20\n",
            "\u001b[1m10/10\u001b[0m \u001b[32m━━━━━━━━━━━━━━━━━━━━\u001b[0m\u001b[37m\u001b[0m \u001b[1m0s\u001b[0m 12ms/step - accuracy: 0.7522 - loss: 0.4760 - val_accuracy: 0.6207 - val_loss: 0.6263\n",
            "Epoch 15/20\n",
            "\u001b[1m10/10\u001b[0m \u001b[32m━━━━━━━━━━━━━━━━━━━━\u001b[0m\u001b[37m\u001b[0m \u001b[1m0s\u001b[0m 11ms/step - accuracy: 0.7850 - loss: 0.4401 - val_accuracy: 0.6897 - val_loss: 0.6113\n",
            "Epoch 16/20\n",
            "\u001b[1m10/10\u001b[0m \u001b[32m━━━━━━━━━━━━━━━━━━━━\u001b[0m\u001b[37m\u001b[0m \u001b[1m0s\u001b[0m 12ms/step - accuracy: 0.8140 - loss: 0.4059 - val_accuracy: 0.6724 - val_loss: 0.6363\n",
            "Epoch 17/20\n",
            "\u001b[1m10/10\u001b[0m \u001b[32m━━━━━━━━━━━━━━━━━━━━\u001b[0m\u001b[37m\u001b[0m \u001b[1m0s\u001b[0m 11ms/step - accuracy: 0.7678 - loss: 0.4717 - val_accuracy: 0.6897 - val_loss: 0.6096\n",
            "Epoch 18/20\n",
            "\u001b[1m10/10\u001b[0m \u001b[32m━━━━━━━━━━━━━━━━━━━━\u001b[0m\u001b[37m\u001b[0m \u001b[1m0s\u001b[0m 12ms/step - accuracy: 0.8146 - loss: 0.4269 - val_accuracy: 0.6724 - val_loss: 0.6332\n",
            "Epoch 19/20\n",
            "\u001b[1m10/10\u001b[0m \u001b[32m━━━━━━━━━━━━━━━━━━━━\u001b[0m\u001b[37m\u001b[0m \u001b[1m0s\u001b[0m 12ms/step - accuracy: 0.8397 - loss: 0.4132 - val_accuracy: 0.7069 - val_loss: 0.6142\n",
            "Epoch 20/20\n",
            "\u001b[1m10/10\u001b[0m \u001b[32m━━━━━━━━━━━━━━━━━━━━\u001b[0m\u001b[37m\u001b[0m \u001b[1m0s\u001b[0m 12ms/step - accuracy: 0.8317 - loss: 0.3949 - val_accuracy: 0.6724 - val_loss: 0.6540\n",
            "\u001b[1m2/2\u001b[0m \u001b[32m━━━━━━━━━━━━━━━━━━━━\u001b[0m\u001b[37m\u001b[0m \u001b[1m0s\u001b[0m 122ms/step\n",
            "CNN Model Accuracy: 0.6724\n",
            "              precision    recall  f1-score   support\n",
            "\n",
            "           0       0.78      0.76      0.77        41\n",
            "           1       0.44      0.47      0.46        17\n",
            "\n",
            "    accuracy                           0.67        58\n",
            "   macro avg       0.61      0.61      0.61        58\n",
            "weighted avg       0.68      0.67      0.68        58\n",
            "\n"
          ]
        }
      ]
    }
  ],
  "metadata": {
    "kernelspec": {
      "display_name": "base",
      "language": "python",
      "name": "python3"
    },
    "language_info": {
      "codemirror_mode": {
        "name": "ipython",
        "version": 3
      },
      "file_extension": ".py",
      "mimetype": "text/x-python",
      "name": "python",
      "nbconvert_exporter": "python",
      "pygments_lexer": "ipython3",
      "version": "3.12.4"
    },
    "colab": {
      "provenance": [],
      "include_colab_link": true
    }
  },
  "nbformat": 4,
  "nbformat_minor": 0
}